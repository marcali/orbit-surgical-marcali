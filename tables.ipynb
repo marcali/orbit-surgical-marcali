{
 "cells": [
  {
   "cell_type": "code",
   "execution_count": null,
   "metadata": {},
   "outputs": [],
   "source": [
    "import pandas as pd\n",
    "import matplotlib.pyplot as plt"
   ]
  },
  {
   "cell_type": "code",
   "execution_count": null,
   "metadata": {},
   "outputs": [],
   "source": [
    "\n",
    "#action rate\n",
    "# Function to load and plot data from CSV files\n",
    "def plot_action_rate(file_paths, labels):\n",
    "    plt.figure(figsize=(10, 6))\n",
    "    \n",
    "    for file_path, label in zip(file_paths, labels):\n",
    "        # Load the CSV file\n",
    "        df = pd.read_csv(file_path)\n",
    "        \n",
    "        # Assuming columns are named 'Step' and 'Value'\n",
    "        timesteps = df['Step']\n",
    "        reward_action_rate = df['Value']\n",
    "        \n",
    "        # Plot the data\n",
    "        plt.plot(timesteps, reward_action_rate, label=label)\n",
    "    \n",
    "    # Add labels and title\n",
    "    plt.xlabel('Timesteps')\n",
    "    plt.ylabel('Action Rate Reward')\n",
    "    plt.title('Episode Reward / Action Rate over Timesteps')\n",
    "    \n",
    "    # Add legend\n",
    "    plt.legend()\n",
    "    \n",
    "    # Show grid\n",
    "    plt.grid(True)\n",
    "    \n",
    "    # Display the plot\n",
    "    plt.show()\n",
    "\n",
    "# Example usage:\n",
    "file_paths = [\n",
    "    'path_to_your/skrl_lift_2024-09-13_22-25-30-og.csv',\n",
    "    'path_to_your/skrl_lift_2024-09-13_20-44-46-torque-best.csv'\n",
    "]\n",
    "labels = ['OG', 'Torque-Best']\n",
    "\n",
    "# Call the function to plot\n",
    "plot_action_rate(file_paths, labels)\n"
   ]
  }
 ],
 "metadata": {
  "language_info": {
   "name": "python"
  }
 },
 "nbformat": 4,
 "nbformat_minor": 2
}
